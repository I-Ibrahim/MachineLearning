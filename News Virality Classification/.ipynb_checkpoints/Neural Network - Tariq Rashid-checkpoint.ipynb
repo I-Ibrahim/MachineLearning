{
 "cells": [
  {
   "cell_type": "code",
   "execution_count": 38,
   "metadata": {
    "collapsed": false
   },
   "outputs": [],
   "source": [
    "import numpy as np\n",
    "import pandas as pd\n",
    "import scipy.special"
   ]
  },
  {
   "cell_type": "code",
   "execution_count": 83,
   "metadata": {
    "collapsed": true
   },
   "outputs": [],
   "source": [
    "class neuralNetwork:\n",
    "    def __init__(self, inputnodes, hiddennodes, outputnodes, learningrate):\n",
    "        self.inodes=inputnodes\n",
    "        self.hnodes=hiddennodes\n",
    "        self.onodes=outputnodes\n",
    "        \n",
    "        self.lrate=learningrate\n",
    "        \n",
    "        #initialise weights\n",
    "        self.wih=np.random.rand(self.hnodes, self.inodes)-0.5\n",
    "        self.who=np.random.rand(self.onodes, self.hnodes)-0.5\n",
    "        \n",
    "        # call in sigmoid function\n",
    "        self.activation_function=lambda x: scipy.special.expit(x)\n",
    "        pass\n",
    "    \n",
    "    def train(self, inputs_list, targets_list):\n",
    "        #first task is to output the network like we did in query, then using this output to update the weights\n",
    "        inputs=np.array(inputs_list, ndmin=2).T\n",
    "        targets=np.array(targets_list, ndmin=2).T\n",
    "        \n",
    "        hidden_inputs=np.dot(self.wih, inputs)\n",
    "        hidden_outputs=self.activation_function(hidden_inputs)\n",
    "        \n",
    "        final_inputs=np.dot(self.who, hidden_outputs)\n",
    "        final_outputs=self.activation_function(final_inputs)\n",
    "        \n",
    "        \n",
    "        #calc error which is (target-output) & for the hidden layer of backprop\n",
    "        \n",
    "        output_errors=targets-final_outputs\n",
    "        hidden_errors=np.dot(self.who.T, output_errors)\n",
    "        \n",
    "        #update weights using the errors\n",
    "        self.who+=self.lr*np.dot((output_errors*final_outputs*(1-final_outputs)), np.transpose(hidden_outputs))\n",
    "        self.wih+=self.lr*np.dot((hidden_errors*hidden_outputs*(1-hidden_outputs)), np.transpose(inputs))\n",
    "        pass\n",
    "    \n",
    "    def query(self, inputs_list):\n",
    "        #convert input into 2D array\n",
    "        inputs=np.array(inputs_list, ndmin=2).T\n",
    "        \n",
    "        #calc signals into hidden layer\n",
    "        hidden_inputs=np.dot(self.wih,inputs)\n",
    "        #apply sigmoid to calc output from hidden layer\n",
    "        hidden_outputs=self.activation_function(hidden_inputs)\n",
    "        \n",
    "        final_inputs=np.dot(self.who, hidden_outputs)\n",
    "        final_outputs=self.activation_function(final_inputs)\n",
    "\n",
    "        return final_outputs"
   ]
  },
  {
   "cell_type": "code",
   "execution_count": 84,
   "metadata": {
    "collapsed": true
   },
   "outputs": [],
   "source": [
    "input_nodes=3\n",
    "hidden_nodes=3\n",
    "output_nodes=3\n",
    "\n",
    "learning_rate=0.3"
   ]
  },
  {
   "cell_type": "code",
   "execution_count": 85,
   "metadata": {
    "collapsed": false
   },
   "outputs": [],
   "source": [
    "n=neuralNetwork(input_nodes, hidden_nodes, output_nodes, learning_rate)"
   ]
  },
  {
   "cell_type": "code",
   "execution_count": 86,
   "metadata": {
    "collapsed": false
   },
   "outputs": [
    {
     "data": {
      "text/plain": [
       "array([[ 0.26485896, -0.05120143, -0.15223583],\n",
       "       [ 0.47050876, -0.27206978,  0.41306513],\n",
       "       [-0.21290416,  0.44959214, -0.47315203]])"
      ]
     },
     "execution_count": 86,
     "metadata": {},
     "output_type": "execute_result"
    }
   ],
   "source": [
    "np.random.rand(input_nodes, hidden_nodes)-0.5"
   ]
  },
  {
   "cell_type": "code",
   "execution_count": 87,
   "metadata": {
    "collapsed": false
   },
   "outputs": [
    {
     "data": {
      "text/plain": [
       "array([[ 0.54746287],\n",
       "       [ 0.56507732],\n",
       "       [ 0.60395306]])"
      ]
     },
     "execution_count": 87,
     "metadata": {},
     "output_type": "execute_result"
    }
   ],
   "source": [
    "n.query([1, 0.5, 1.5])"
   ]
  },
  {
   "cell_type": "code",
   "execution_count": null,
   "metadata": {
    "collapsed": true
   },
   "outputs": [],
   "source": []
  }
 ],
 "metadata": {
  "anaconda-cloud": {},
  "kernelspec": {
   "display_name": "Python [default]",
   "language": "python",
   "name": "python3"
  },
  "language_info": {
   "codemirror_mode": {
    "name": "ipython",
    "version": 3
   },
   "file_extension": ".py",
   "mimetype": "text/x-python",
   "name": "python",
   "nbconvert_exporter": "python",
   "pygments_lexer": "ipython3",
   "version": "3.5.2"
  }
 },
 "nbformat": 4,
 "nbformat_minor": 1
}
