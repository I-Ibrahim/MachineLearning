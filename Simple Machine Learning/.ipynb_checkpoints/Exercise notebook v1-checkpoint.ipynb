{
 "cells": [
  {
   "cell_type": "code",
   "execution_count": 26,
   "metadata": {
    "collapsed": true
   },
   "outputs": [],
   "source": [
    "import pandas as pd\n",
    "import numpy as np"
   ]
  },
  {
   "cell_type": "code",
   "execution_count": 27,
   "metadata": {
    "collapsed": true
   },
   "outputs": [],
   "source": [
    "df=pd.read_csv('exercise.csv')"
   ]
  },
  {
   "cell_type": "code",
   "execution_count": 28,
   "metadata": {},
   "outputs": [
    {
     "data": {
      "text/html": [
       "<div>\n",
       "<style>\n",
       "    .dataframe thead tr:only-child th {\n",
       "        text-align: right;\n",
       "    }\n",
       "\n",
       "    .dataframe thead th {\n",
       "        text-align: left;\n",
       "    }\n",
       "\n",
       "    .dataframe tbody tr th {\n",
       "        vertical-align: top;\n",
       "    }\n",
       "</style>\n",
       "<table border=\"1\" class=\"dataframe\">\n",
       "  <thead>\n",
       "    <tr style=\"text-align: right;\">\n",
       "      <th></th>\n",
       "      <th>Feature_0</th>\n",
       "      <th>Feature_1</th>\n",
       "      <th>Feature_2</th>\n",
       "      <th>Feature_3</th>\n",
       "      <th>Feature_4</th>\n",
       "      <th>Feature_5</th>\n",
       "      <th>Feature_6</th>\n",
       "      <th>Feature_7</th>\n",
       "      <th>Feature_8</th>\n",
       "      <th>Feature_9</th>\n",
       "      <th>Class</th>\n",
       "    </tr>\n",
       "  </thead>\n",
       "  <tbody>\n",
       "    <tr>\n",
       "      <th>count</th>\n",
       "      <td>1410.000000</td>\n",
       "      <td>1421.000000</td>\n",
       "      <td>1415.000000</td>\n",
       "      <td>1421.000000</td>\n",
       "      <td>1418.000000</td>\n",
       "      <td>1406.000000</td>\n",
       "      <td>1418.000000</td>\n",
       "      <td>1410.000000</td>\n",
       "      <td>1419.000000</td>\n",
       "      <td>1415.000000</td>\n",
       "      <td>1429.000000</td>\n",
       "    </tr>\n",
       "    <tr>\n",
       "      <th>mean</th>\n",
       "      <td>2.761278</td>\n",
       "      <td>18.836509</td>\n",
       "      <td>-9.570223</td>\n",
       "      <td>9.982570</td>\n",
       "      <td>13.792544</td>\n",
       "      <td>-18.587160</td>\n",
       "      <td>-16.879084</td>\n",
       "      <td>-22.516671</td>\n",
       "      <td>-0.934358</td>\n",
       "      <td>9.958484</td>\n",
       "      <td>0.375787</td>\n",
       "    </tr>\n",
       "    <tr>\n",
       "      <th>std</th>\n",
       "      <td>0.092740</td>\n",
       "      <td>0.063372</td>\n",
       "      <td>0.226868</td>\n",
       "      <td>0.248747</td>\n",
       "      <td>1.538595</td>\n",
       "      <td>0.510192</td>\n",
       "      <td>9.431922</td>\n",
       "      <td>0.027776</td>\n",
       "      <td>0.326741</td>\n",
       "      <td>0.427736</td>\n",
       "      <td>0.484495</td>\n",
       "    </tr>\n",
       "    <tr>\n",
       "      <th>min</th>\n",
       "      <td>2.140701</td>\n",
       "      <td>18.043017</td>\n",
       "      <td>-10.471220</td>\n",
       "      <td>9.148813</td>\n",
       "      <td>9.178957</td>\n",
       "      <td>-21.330718</td>\n",
       "      <td>-45.823666</td>\n",
       "      <td>-23.147576</td>\n",
       "      <td>-2.135276</td>\n",
       "      <td>8.928247</td>\n",
       "      <td>0.000000</td>\n",
       "    </tr>\n",
       "    <tr>\n",
       "      <th>25%</th>\n",
       "      <td>2.741825</td>\n",
       "      <td>18.841566</td>\n",
       "      <td>-9.690766</td>\n",
       "      <td>9.865447</td>\n",
       "      <td>12.810516</td>\n",
       "      <td>-18.803854</td>\n",
       "      <td>-23.464018</td>\n",
       "      <td>-22.515233</td>\n",
       "      <td>-1.106257</td>\n",
       "      <td>9.669022</td>\n",
       "      <td>0.000000</td>\n",
       "    </tr>\n",
       "    <tr>\n",
       "      <th>50%</th>\n",
       "      <td>2.810525</td>\n",
       "      <td>18.841566</td>\n",
       "      <td>-9.612721</td>\n",
       "      <td>10.008774</td>\n",
       "      <td>13.687099</td>\n",
       "      <td>-18.432257</td>\n",
       "      <td>-16.835631</td>\n",
       "      <td>-22.515233</td>\n",
       "      <td>-0.890881</td>\n",
       "      <td>9.926164</td>\n",
       "      <td>0.000000</td>\n",
       "    </tr>\n",
       "    <tr>\n",
       "      <th>75%</th>\n",
       "      <td>2.810525</td>\n",
       "      <td>18.841566</td>\n",
       "      <td>-9.495653</td>\n",
       "      <td>10.152101</td>\n",
       "      <td>14.688909</td>\n",
       "      <td>-18.246458</td>\n",
       "      <td>-10.522323</td>\n",
       "      <td>-22.515233</td>\n",
       "      <td>-0.699436</td>\n",
       "      <td>10.197245</td>\n",
       "      <td>1.000000</td>\n",
       "    </tr>\n",
       "    <tr>\n",
       "      <th>max</th>\n",
       "      <td>2.999449</td>\n",
       "      <td>18.841566</td>\n",
       "      <td>-7.622564</td>\n",
       "      <td>11.413376</td>\n",
       "      <td>20.073634</td>\n",
       "      <td>-17.614742</td>\n",
       "      <td>12.196056</td>\n",
       "      <td>-22.515233</td>\n",
       "      <td>-0.005447</td>\n",
       "      <td>11.643751</td>\n",
       "      <td>1.000000</td>\n",
       "    </tr>\n",
       "  </tbody>\n",
       "</table>\n",
       "</div>"
      ],
      "text/plain": [
       "         Feature_0    Feature_1    Feature_2    Feature_3    Feature_4  \\\n",
       "count  1410.000000  1421.000000  1415.000000  1421.000000  1418.000000   \n",
       "mean      2.761278    18.836509    -9.570223     9.982570    13.792544   \n",
       "std       0.092740     0.063372     0.226868     0.248747     1.538595   \n",
       "min       2.140701    18.043017   -10.471220     9.148813     9.178957   \n",
       "25%       2.741825    18.841566    -9.690766     9.865447    12.810516   \n",
       "50%       2.810525    18.841566    -9.612721    10.008774    13.687099   \n",
       "75%       2.810525    18.841566    -9.495653    10.152101    14.688909   \n",
       "max       2.999449    18.841566    -7.622564    11.413376    20.073634   \n",
       "\n",
       "         Feature_5    Feature_6    Feature_7    Feature_8    Feature_9  \\\n",
       "count  1406.000000  1418.000000  1410.000000  1419.000000  1415.000000   \n",
       "mean    -18.587160   -16.879084   -22.516671    -0.934358     9.958484   \n",
       "std       0.510192     9.431922     0.027776     0.326741     0.427736   \n",
       "min     -21.330718   -45.823666   -23.147576    -2.135276     8.928247   \n",
       "25%     -18.803854   -23.464018   -22.515233    -1.106257     9.669022   \n",
       "50%     -18.432257   -16.835631   -22.515233    -0.890881     9.926164   \n",
       "75%     -18.246458   -10.522323   -22.515233    -0.699436    10.197245   \n",
       "max     -17.614742    12.196056   -22.515233    -0.005447    11.643751   \n",
       "\n",
       "             Class  \n",
       "count  1429.000000  \n",
       "mean      0.375787  \n",
       "std       0.484495  \n",
       "min       0.000000  \n",
       "25%       0.000000  \n",
       "50%       0.000000  \n",
       "75%       1.000000  \n",
       "max       1.000000  "
      ]
     },
     "execution_count": 28,
     "metadata": {},
     "output_type": "execute_result"
    }
   ],
   "source": [
    "df.describe()"
   ]
  },
  {
   "cell_type": "code",
   "execution_count": 29,
   "metadata": {},
   "outputs": [
    {
     "name": "stdout",
     "output_type": "stream",
     "text": [
      "<class 'pandas.core.frame.DataFrame'>\n",
      "RangeIndex: 1429 entries, 0 to 1428\n",
      "Data columns (total 11 columns):\n",
      "Feature_0    1410 non-null float64\n",
      "Feature_1    1421 non-null float64\n",
      "Feature_2    1415 non-null float64\n",
      "Feature_3    1421 non-null float64\n",
      "Feature_4    1418 non-null float64\n",
      "Feature_5    1406 non-null float64\n",
      "Feature_6    1418 non-null float64\n",
      "Feature_7    1410 non-null float64\n",
      "Feature_8    1419 non-null float64\n",
      "Feature_9    1415 non-null float64\n",
      "Class        1429 non-null int64\n",
      "dtypes: float64(10), int64(1)\n",
      "memory usage: 122.9 KB\n"
     ]
    }
   ],
   "source": [
    "df.info()"
   ]
  },
  {
   "cell_type": "code",
   "execution_count": 61,
   "metadata": {},
   "outputs": [
    {
     "name": "stdout",
     "output_type": "stream",
     "text": [
      "proportion of class 1 is 0.377897990726\n"
     ]
    }
   ],
   "source": [
    "Class_prop=(sum(df.Class==1)/len(df.Class))\n",
    "\n",
    "print ('proportion of class 1 is %s' %Class_prop)"
   ]
  },
  {
   "cell_type": "code",
   "execution_count": 31,
   "metadata": {
    "collapsed": true
   },
   "outputs": [],
   "source": [
    "df=df.replace('', np.nan)"
   ]
  },
  {
   "cell_type": "code",
   "execution_count": 32,
   "metadata": {
    "collapsed": true
   },
   "outputs": [],
   "source": [
    "df=df.dropna(how='any', axis=0) #drop blanks"
   ]
  },
  {
   "cell_type": "markdown",
   "metadata": {},
   "source": [
    "# Machine Learning"
   ]
  },
  {
   "cell_type": "code",
   "execution_count": 33,
   "metadata": {
    "collapsed": true
   },
   "outputs": [],
   "source": [
    "from sklearn.model_selection import train_test_split"
   ]
  },
  {
   "cell_type": "code",
   "execution_count": 34,
   "metadata": {
    "collapsed": true
   },
   "outputs": [],
   "source": [
    "X=df.iloc[:,0:-1]\n",
    "Y=df.Class"
   ]
  },
  {
   "cell_type": "code",
   "execution_count": 35,
   "metadata": {
    "collapsed": true
   },
   "outputs": [],
   "source": [
    "X_train, X_test, Y_train, Y_test = train_test_split(X, Y, test_size=0.2)"
   ]
  },
  {
   "cell_type": "code",
   "execution_count": 63,
   "metadata": {},
   "outputs": [
    {
     "name": "stdout",
     "output_type": "stream",
     "text": [
      "error rate for logistic regression classifier is 18.532818532818528\n"
     ]
    }
   ],
   "source": [
    "# Log regression\n",
    "\n",
    "\n",
    "from sklearn.linear_model import LogisticRegression\n",
    "\n",
    "logistic_classifier=LogisticRegression()\n",
    "logistic_classifier.fit(X_train, Y_train)\n",
    "\n",
    "output=logistic_classifier.predict(X_test)\n",
    "\n",
    "Y_test=np.array(Y_test)\n",
    "together=np.column_stack((output, Y_test))\n",
    "\n",
    "\n",
    "correct=0\n",
    "for y,t in together:\n",
    "    if y==t:\n",
    "        correct+=1\n",
    "Error = (1-(correct/len(output)))*100\n",
    "print ('error rate for logistic regression classifier is %s' %Error)"
   ]
  },
  {
   "cell_type": "code",
   "execution_count": 62,
   "metadata": {},
   "outputs": [
    {
     "name": "stdout",
     "output_type": "stream",
     "text": [
      "error rate for random forrest is 0.13127413127413123\n"
     ]
    }
   ],
   "source": [
    "# random forrest \n",
    "\n",
    "from sklearn.ensemble import RandomForestClassifier\n",
    "\n",
    "random_classifier=RandomForestClassifier()\n",
    "\n",
    "random_classifier.fit(X_train, Y_train)\n",
    "\n",
    "output=random_classifier.predict(X_test)\n",
    "\n",
    "Y_test=np.array(Y_test)\n",
    "together=np.column_stack((output, Y_test))\n",
    "\n",
    "correct=0\n",
    "for y,t in together:\n",
    "    if y==t:\n",
    "        correct+=1\n",
    "Error = (1-(correct/len(output)))\n",
    "print ('error rate for random forrest is %s' %Error)"
   ]
  },
  {
   "cell_type": "code",
   "execution_count": 58,
   "metadata": {
    "collapsed": true
   },
   "outputs": [],
   "source": [
    "def predictnewone(x):\n",
    "    print(random_classifier.predict(x))\n",
    "    \n",
    "    \n",
    "x=np.zeros(10)"
   ]
  },
  {
   "cell_type": "code",
   "execution_count": 59,
   "metadata": {},
   "outputs": [
    {
     "name": "stdout",
     "output_type": "stream",
     "text": [
      "[0]\n"
     ]
    },
    {
     "name": "stderr",
     "output_type": "stream",
     "text": [
      "/Users/IzzIbrahim/anaconda/lib/python3.5/site-packages/sklearn/utils/validation.py:395: DeprecationWarning: Passing 1d arrays as data is deprecated in 0.17 and will raise ValueError in 0.19. Reshape your data either using X.reshape(-1, 1) if your data has a single feature or X.reshape(1, -1) if it contains a single sample.\n",
      "  DeprecationWarning)\n"
     ]
    }
   ],
   "source": [
    "predictnewone(x)"
   ]
  },
  {
   "cell_type": "code",
   "execution_count": null,
   "metadata": {
    "collapsed": true
   },
   "outputs": [],
   "source": []
  }
 ],
 "metadata": {
  "kernelspec": {
   "display_name": "Python [default]",
   "language": "python",
   "name": "python3"
  },
  "language_info": {
   "codemirror_mode": {
    "name": "ipython",
    "version": 3
   },
   "file_extension": ".py",
   "mimetype": "text/x-python",
   "name": "python",
   "nbconvert_exporter": "python",
   "pygments_lexer": "ipython3",
   "version": "3.5.3"
  }
 },
 "nbformat": 4,
 "nbformat_minor": 2
}
